{
 "cells": [
  {
   "cell_type": "code",
   "execution_count": null,
   "metadata": {},
   "outputs": [],
   "source": [
    "# default_exp core"
   ]
  },
  {
   "cell_type": "markdown",
   "metadata": {},
   "source": [
    "# fastdata-utilities\n",
    "\n",
    "> API details."
   ]
  },
  {
   "cell_type": "code",
   "execution_count": null,
   "metadata": {},
   "outputs": [],
   "source": [
    "#hide\n",
    "from nbdev.showdoc import *"
   ]
  },
  {
   "cell_type": "markdown",
   "metadata": {},
   "source": [
    "# Pandas Dataframe methods\n",
    "\n",
    "Approach inspired by:\n",
    "1. Official pandas guide: https://pandas.pydata.org/pandas-docs/stable/development/extending.html\n",
    "2. Pandas Flavor library"
   ]
  },
  {
   "cell_type": "markdown",
   "metadata": {},
   "source": [
    "## Exposing methods directly (not used)"
   ]
  },
  {
   "cell_type": "code",
   "execution_count": null,
   "metadata": {},
   "outputs": [],
   "source": [
    "#hide\n",
    "import pandas as pd\n",
    "import numpy as np\n",
    "\n",
    "def flatten_multiindex(self,axis='all'):\n",
    "            if 'MultiIndex' in str(type(self.columns)) and axis in ('all', 'columns'):\n",
    "                #print('Removing columns')\n",
    "                self.columns = self.columns.map(lambda x: '_'.join([str(i) for i in x]))\n",
    "\n",
    "            if 'MultiIndex' in str(type(self.index)) and axis in ('all', 'index'):\n",
    "                #print('Removing rows')\n",
    "                self = self.reset_index()\n",
    "            return self\n",
    "\n",
    "\n",
    "@pd.api.extensions.register_dataframe_accessor('flatten_multiindex')\n",
    "class AccessorMethod(object):\n",
    "    def __init__(self, pandas_obj):\n",
    "        self._obj = pandas_obj\n",
    "    \n",
    "    def __call__(self, *args, **kwargs):\n",
    "        return flatten_multiindex(self._obj, *args, **kwargs)"
   ]
  },
  {
   "cell_type": "markdown",
   "metadata": {},
   "source": [
    "## Dataframe methods"
   ]
  },
  {
   "cell_type": "markdown",
   "metadata": {},
   "source": [
    "### flatten_multiindex\n",
    "Converts a multi-index dataframe into a more readable flat dataframe"
   ]
  },
  {
   "cell_type": "code",
   "execution_count": null,
   "metadata": {},
   "outputs": [],
   "source": [
    "#export\n",
    "import pandas as pd\n",
    "import numpy as np\n",
    "import re\n",
    "\n",
    "@pd.api.extensions.register_dataframe_accessor('fdt')\n",
    "class FastDataUtilities:\n",
    "    def __init__(self, pandas_obj):\n",
    "        self._obj = pandas_obj\n",
    "    \n",
    "    def flatten_multiindex(self,axis='all'):\n",
    "        df = self._obj.copy()\n",
    "        if 'MultiIndex' in str(type(df.columns)) and axis in ('all', 'columns'):\n",
    "            df.columns = df.columns.map(lambda x: '_'.join([str(i) for i in x]))\n",
    "        if 'MultiIndex' in str(type(df.index)) and axis in ('all', 'index'):\n",
    "            df = df.reset_index()\n",
    "        return df"
   ]
  },
  {
   "cell_type": "markdown",
   "metadata": {},
   "source": [
    "## Series Methods"
   ]
  },
  {
   "cell_type": "markdown",
   "metadata": {},
   "source": [
    "### extract_number_from_string\n",
    "Extracts number from string"
   ]
  },
  {
   "cell_type": "code",
   "execution_count": null,
   "metadata": {},
   "outputs": [],
   "source": [
    "#export\n",
    "@pd.api.extensions.register_series_accessor('fdt')\n",
    "class FastDataUtilities:\n",
    "    def __init__(self, pandas_obj):\n",
    "        self._obj = pandas_obj\n",
    "        \n",
    "    def find_between_text(self, start_string, end_string):\n",
    "        series = self._obj\n",
    "        search_expr = start_string + '(.*)' + end_string\n",
    "        series = series.str.extract(search_expr)\n",
    "        return series\n",
    "    \n",
    "    def extract_number_from_string(self, dtype):\n",
    "        series = self._obj\n",
    "        series = series.str.extract('(\\d+)')\n",
    "        series = series.astype(dtype)\n",
    "        return series"
   ]
  },
  {
   "cell_type": "markdown",
   "metadata": {},
   "source": [
    "## Export code"
   ]
  },
  {
   "cell_type": "code",
   "execution_count": null,
   "metadata": {},
   "outputs": [],
   "source": [
    "# export\n",
    "def generate_function_call_from_form(formReponse, dataframeSelection):\n",
    "    formData = formReponse[\"formData\"];\n",
    "    transformationSelection = formReponse[\"schema\"][\"function\"];\n",
    "    callerObject =  formReponse[\"schema\"][\"callerObject\"];\n",
    "    series = ''\n",
    "\n",
    "    if 'DataFrame' in callerObject:\n",
    "        callerObject = callerObject.replace('DataFrame', dataframeSelection)\n",
    "    if 'Series' in callerObject:\n",
    "        seriesString = '\"' + formData['column'] +'\"'\n",
    "        series = '[' + seriesString + ']'\n",
    "        callerObject = callerObject.replace('Series',seriesString)\n",
    "\n",
    "    formula = callerObject + '.' + transformationSelection + '('\n",
    " \n",
    "    variable = ''\n",
    "    for key in formData:\n",
    "        parameterPrefix = '\\n    '\n",
    "        # Check for a codegen style\n",
    "        if(\"codegenstyle\" in formReponse[\"schema\"][\"properties\"][key]):\n",
    "            codegenstyle = formReponse[\"schema\"][\"properties\"][key]['codegenstyle']\n",
    "            if codegenstyle == 'variable':\n",
    "                # Remove qutations\n",
    "                formula = formula + parameterPrefix + key + '=' + str(formData[key]) + ', '\n",
    "            elif codegenstyle == 'array':\n",
    "                # Add brackets []\n",
    "                formula = formula + parameterPrefix + key + '=' + str(formData[key]) + ', '\n",
    "            elif codegenstyle == 'aggregation':\n",
    "                # Process aggregations for function merge\n",
    "                aggregationDict = '{'\n",
    "                for dict in formData[\"aggfunc\"]:\n",
    "                    aggregationDict = aggregationDict + '\"' + dict[\"column\"] + '\" : ' + str(dict[\"function\"]).replace('\"', '') + ', '\n",
    "\n",
    "                aggregationDict = aggregationDict[0: len(aggregationDict) - 2];\n",
    "                aggregationDict = aggregationDict + '}'\n",
    "                aggregationDict = parameterPrefix + 'aggfunc=' + aggregationDict\n",
    "                formula = formula + aggregationDict + ', '\n",
    "        else:\n",
    "            if key == 'New table':\n",
    "                variable = formData[key]\n",
    "            else:\n",
    "                formula = formula + parameterPrefix + key + '=\"' + str(formData[key]) + '\", '\n",
    "\n",
    "    if(variable == '' and dataframeSelection != 'None'):\n",
    "        variable = dataframeSelection\n",
    "    elif(dataframeSelection == 'None'):\n",
    "        variable = 'data'\n",
    "    \n",
    "    # Remove last comma and space given there are no more parameters\n",
    "    formula = formula[0: len(formula) - 2];\n",
    "    # Close parenthesis\n",
    "    formula = formula + ')'\n",
    "    # Finalize formula\n",
    "    formula = variable + series + ' = ' + formula;\n",
    "    return formula"
   ]
  },
  {
   "cell_type": "code",
   "execution_count": null,
   "metadata": {},
   "outputs": [
    {
     "name": "stdout",
     "output_type": "stream",
     "text": [
      "Converted 00_core.ipynb.\n",
      "Converted index.ipynb.\n"
     ]
    }
   ],
   "source": [
    "from nbdev.export import *\n",
    "notebook2script()"
   ]
  },
  {
   "cell_type": "code",
   "execution_count": null,
   "metadata": {},
   "outputs": [],
   "source": []
  }
 ],
 "metadata": {
  "kernelspec": {
   "display_name": "Python 3",
   "language": "python",
   "name": "python3"
  }
 },
 "nbformat": 4,
 "nbformat_minor": 4
}
