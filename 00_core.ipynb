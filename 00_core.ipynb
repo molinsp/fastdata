{
 "cells": [
  {
   "cell_type": "code",
   "execution_count": null,
   "metadata": {},
   "outputs": [],
   "source": [
    "# default_exp core"
   ]
  },
  {
   "cell_type": "markdown",
   "metadata": {},
   "source": [
    "# fastdata-utilities\n",
    "\n",
    "> API details."
   ]
  },
  {
   "cell_type": "code",
   "execution_count": null,
   "metadata": {},
   "outputs": [],
   "source": [
    "#hide\n",
    "from nbdev.showdoc import *"
   ]
  },
  {
   "cell_type": "markdown",
   "metadata": {},
   "source": [
    "# Pandas Dataframe methods\n",
    "\n",
    "Approach inspired by:\n",
    "1. Official pandas guide: https://pandas.pydata.org/pandas-docs/stable/development/extending.html\n",
    "2. Pandas Flavor library"
   ]
  },
  {
   "cell_type": "markdown",
   "metadata": {},
   "source": [
    "## Exposing methods directly (not used)"
   ]
  },
  {
   "cell_type": "code",
   "execution_count": null,
   "metadata": {},
   "outputs": [],
   "source": [
    "import pandas as pd\n",
    "import numpy as np\n",
    "\n",
    "def flatten_multiindex(self,axis='all'):\n",
    "            if 'MultiIndex' in str(type(self.columns)) and axis in ('all', 'columns'):\n",
    "                #print('Removing columns')\n",
    "                self.columns = self.columns.map(lambda x: '_'.join([str(i) for i in x]))\n",
    "\n",
    "            if 'MultiIndex' in str(type(self.index)) and axis in ('all', 'index'):\n",
    "                #print('Removing rows')\n",
    "                self = self.reset_index()\n",
    "            return self\n",
    "\n",
    "\n",
    "@pd.api.extensions.register_dataframe_accessor('flatten_multiindex')\n",
    "class AccessorMethod(object):\n",
    "    def __init__(self, pandas_obj):\n",
    "        self._obj = pandas_obj\n",
    "    \n",
    "    def __call__(self, *args, **kwargs):\n",
    "        return flatten_multiindex(self._obj, *args, **kwargs)"
   ]
  },
  {
   "cell_type": "markdown",
   "metadata": {},
   "source": [
    "## Flatten multi_index"
   ]
  },
  {
   "cell_type": "code",
   "execution_count": null,
   "metadata": {},
   "outputs": [],
   "source": [
    "#export\n",
    "import pandas as pd\n",
    "import numpy as np\n",
    "\n",
    "@pd.api.extensions.register_dataframe_accessor('fdt')\n",
    "class FastDataUtilities:\n",
    "    def __init__(self, pandas_obj):\n",
    "        self._obj = pandas_obj\n",
    "    \n",
    "    def flatten_multiindex(self,axis='all'):\n",
    "        df = self._obj\n",
    "        if 'MultiIndex' in str(type(df.columns)) and axis in ('all', 'columns'):\n",
    "            df.columns = df.columns.map(lambda x: '_'.join([str(i) for i in x]))\n",
    "        if 'MultiIndex' in str(type(df.index)) and axis in ('all', 'index'):\n",
    "            df = df.reset_index()\n",
    "        return df"
   ]
  },
  {
   "cell_type": "code",
   "execution_count": null,
   "metadata": {},
   "outputs": [
    {
     "name": "stdout",
     "output_type": "stream",
     "text": [
      "Converted 00_core.ipynb.\n",
      "Converted index.ipynb.\n"
     ]
    }
   ],
   "source": [
    "from nbdev.export import *\n",
    "notebook2script()"
   ]
  },
  {
   "cell_type": "code",
   "execution_count": null,
   "metadata": {},
   "outputs": [],
   "source": []
  }
 ],
 "metadata": {
  "kernelspec": {
   "display_name": "Python 3",
   "language": "python",
   "name": "python3"
  }
 },
 "nbformat": 4,
 "nbformat_minor": 4
}
