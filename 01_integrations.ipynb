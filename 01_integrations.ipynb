{
 "cells": [
  {
   "cell_type": "code",
   "execution_count": null,
   "metadata": {},
   "outputs": [],
   "source": [
    "# default_exp integrations"
   ]
  },
  {
   "cell_type": "code",
   "execution_count": null,
   "metadata": {},
   "outputs": [],
   "source": [
    "# export\n",
    "from pyairtable import Table\n",
    "import pandas as pd\n",
    "import gspread\n",
    "from gspread_pandas import Spread\n",
    "from pathlib import Path\n",
    "import numpy as np"
   ]
  },
  {
   "cell_type": "markdown",
   "metadata": {},
   "source": [
    "# Airtable"
   ]
  },
  {
   "cell_type": "markdown",
   "metadata": {},
   "source": [
    "[Doc link](https://airtable-python-wrapper.readthedocs.io/en/master/)"
   ]
  },
  {
   "cell_type": "code",
   "execution_count": null,
   "metadata": {},
   "outputs": [],
   "source": [
    "# export\n",
    "def airtable_base_to_df(api_key, base_id, table_name, include_id=False):\n",
    "    airtable_base = Table(api_key, base_id, table_name)\n",
    "    records = airtable_base.all()\n",
    "    \n",
    "    if include_id == True:\n",
    "        records_with_id = []\n",
    "        for r in records:\n",
    "            record_with_id = {'id': r['id']}\n",
    "            fields = r['fields']\n",
    "            record_with_id.update(fields)\n",
    "            records_with_id.append(record_with_id)\n",
    "        return pd.DataFrame.from_records(records_with_id)\n",
    "    else:\n",
    "        return pd.DataFrame.from_records((r['fields'] for r in records))"
   ]
  },
  {
   "cell_type": "code",
   "execution_count": null,
   "metadata": {},
   "outputs": [],
   "source": [
    "# export\n",
    "def df_to_airtable_base(df, api_key, base_id, table_name):\n",
    "    airtable_base = Table(api_key, base_id, table_name)\n",
    "    airtable_base.batch_create(df.fillna('').to_dict(orient='records'))"
   ]
  },
  {
   "cell_type": "code",
   "execution_count": null,
   "metadata": {},
   "outputs": [],
   "source": [
    "# export\n",
    "def update_airtable_records(df, api_key, base_id, table_name, record_id_col='id', \n",
    "                            replace=False, typecast=False):\n",
    "    airtable_base = Table(api_key, base_id, table_name)\n",
    "    records = df.to_dict(orient='records')\n",
    "    formatted_records = []\n",
    "    for r in records:\n",
    "        record_id = r[record_id_col]\n",
    "        del r[record_id_col]\n",
    "        formatted_records.append({'id': record_id, 'fields': r})\n",
    "\n",
    "    airtable_base.batch_update(formatted_records, replace, typecast)"
   ]
  },
  {
   "cell_type": "markdown",
   "metadata": {},
   "source": [
    "# Google sheet integration"
   ]
  },
  {
   "cell_type": "markdown",
   "metadata": {},
   "source": [
    "[Doc link](https://gspread-pandas.readthedocs.io/en/latest/index.html)"
   ]
  },
  {
   "cell_type": "markdown",
   "metadata": {},
   "source": [
    "**Key changes**\n",
    "1. Get sheet from one command instead of 2 (no reuse of spread object)\n",
    "2. Do not expose index, and assume no index by default"
   ]
  },
  {
   "cell_type": "code",
   "execution_count": null,
   "metadata": {},
   "outputs": [],
   "source": [
    "# export\n",
    "def cast_for_gsheets(df):\n",
    "    # casting as string if not serializable\n",
    "    for column, dt in zip(df.columns, df.dtypes):\n",
    "        if dt.type not in [\n",
    "            np.int64,\n",
    "            np.float_,\n",
    "            np.bool_,\n",
    "        ]:\n",
    "            df.loc[:, column] = df[column].astype(str)\n",
    "    return df"
   ]
  },
  {
   "cell_type": "code",
   "execution_count": null,
   "metadata": {},
   "outputs": [],
   "source": [
    "# export\n",
    "def gsheet_to_df(url, index=None, header_rows=1, start_row=1, unformatted_columns=None, \n",
    "                 formula_columns=None, sheet=None, creds=None):\n",
    "    gsheet = Spread(url, sheet=sheet, creds=creds)\n",
    "    return gsheet.sheet_to_df(index, header_rows, start_row, unformatted_columns, formula_columns, sheet)"
   ]
  },
  {
   "cell_type": "code",
   "execution_count": null,
   "metadata": {},
   "outputs": [],
   "source": [
    "# export\n",
    "import gspread\n",
    "from gspread_pandas.util import fillna\n",
    "def df_to_gsheet(df, url, append=False, index=True, headers=True, start=(1, 1), replace=False, sheet=None, \n",
    "                 raw_column_names=None, raw_columns=None, freeze_index=False, freeze_headers=False, \n",
    "                 fill_value='', add_filter=False, merge_headers=False, flatten_headers_sep=None, creds=None):\n",
    "    if append==False:\n",
    "        gsheet = Spread(url, sheet=sheet, creds=creds)\n",
    "        gsheet.df_to_sheet(df, index, headers, start, replace, sheet, \n",
    "                     raw_column_names, raw_columns, freeze_index, freeze_headers, \n",
    "                     fill_value, add_filter, merge_headers, flatten_headers_sep)\n",
    "    elif append==True:\n",
    "        # Fall-back to gspread given there is no high-level function available in gspread pandas\n",
    "        df = fillna(df, fill_value)\n",
    "        \n",
    "        if creds==None:\n",
    "            scopes = [\n",
    "                'https://www.googleapis.com/auth/spreadsheets',\n",
    "                'https://www.googleapis.com/auth/drive'\n",
    "            ]\n",
    "            home = str(Path.home())\n",
    "            gc = gspread.service_account(filename= home + '/.config/gspread_pandas/google_secret.json',  scopes=scopes)\n",
    "        else:\n",
    "            gc = gspread.authorize(creds)\n",
    "        ws = gc.open_by_url(url)\n",
    "        df = fillna(df, fill_value)\n",
    "        df = cast_for_gsheets(df).replace('nan','').replace('NaT','').replace('<NA>','').fillna('')\n",
    "        values = df.values.tolist()\n",
    "        \n",
    "        # Handle sheets by name or index\n",
    "        if type(sheet) == int:\n",
    "            ss = ws.get_worksheet(sheet)\n",
    "        elif type(sheet) == str:\n",
    "            ss = ws.worksheet(sheet)\n",
    "        \n",
    "        if ss == None:\n",
    "            raise Exception('Could not find sheet (tab). Check the sheet number exists (first sheet is 0).')\n",
    "        else:\n",
    "            ss.append_rows(values, value_input_option='USER_ENTERED', insert_data_option='INSERT_ROWS')"
   ]
  },
  {
   "cell_type": "markdown",
   "metadata": {},
   "source": [
    "# Tests"
   ]
  },
  {
   "cell_type": "markdown",
   "metadata": {},
   "source": [
    "## Airtable"
   ]
  },
  {
   "cell_type": "code",
   "execution_count": null,
   "metadata": {},
   "outputs": [],
   "source": [
    "table = airtable_base_to_df(\n",
    "    include_id=True,\n",
    "    base_id = 'appiP2UyUm8OvafTE',\n",
    "    table_name = 'Applicants',\n",
    "    api_key = 'keym266zc06VtBemX'\n",
    ")\n",
    "                            "
   ]
  },
  {
   "cell_type": "code",
   "execution_count": null,
   "metadata": {},
   "outputs": [],
   "source": [
    "table = table.astype(\n",
    "    dtype={\"YearsOfExperience\" : \"int64\"})"
   ]
  },
  {
   "cell_type": "code",
   "execution_count": null,
   "metadata": {},
   "outputs": [],
   "source": [
    "table[\"YearsOfExperience\"] = table[\"YearsOfExperience\"].subtract(\n",
    "    other=5)"
   ]
  },
  {
   "cell_type": "code",
   "execution_count": null,
   "metadata": {},
   "outputs": [
    {
     "data": {
      "text/plain": [
       "[{'id': 'recLILAVUKdXUvtJ9',\n",
       "  'Stage': 'Applied',\n",
       "  'Phone': '(208) 1234-0505',\n",
       "  'Name': 'Pete Mill',\n",
       "  'YearsOfExperience': 0,\n",
       "  'Address': 'Startup avenue 1, ground floor, The Cloud',\n",
       "  'Email Address': 'pm@gmail.com'},\n",
       " {'id': 'recNcGwR3ZuTJnF1l',\n",
       "  'Stage': 'Applied',\n",
       "  'Phone': '(646) 555-4389',\n",
       "  'Name': 'Aristotle',\n",
       "  'YearsOfExperience': -7,\n",
       "  'Address': 'Unnamed stret 2, Chalkidiki',\n",
       "  'Email Address': 'aristotle@makedonia.gr'},\n",
       " {'id': 'recsGSkMthmPLL0pb',\n",
       "  'Stage': 'Applied',\n",
       "  'Phone': '(865) 123-4567',\n",
       "  'Name': 'Queen Elizardbeth II',\n",
       "  'YearsOfExperience': 989,\n",
       "  'Address': 'Buckingham Palace, London',\n",
       "  'Email Address': 'hrmqueenlizzy@example.com'}]"
      ]
     },
     "execution_count": null,
     "metadata": {},
     "output_type": "execute_result"
    }
   ],
   "source": [
    "table.to_dict(orient='records')"
   ]
  },
  {
   "cell_type": "code",
   "execution_count": null,
   "metadata": {},
   "outputs": [],
   "source": [
    "base = Table(base_id = 'appiP2UyUm8OvafTE',\n",
    "    table_name = 'Applicants',\n",
    "    api_key = 'keym266zc06VtBemX')"
   ]
  },
  {
   "cell_type": "code",
   "execution_count": null,
   "metadata": {},
   "outputs": [],
   "source": [
    "update_airtable_records(\n",
    "    table,\n",
    "    base_id = 'appiP2UyUm8OvafTE',\n",
    "    table_name = 'Applicants',\n",
    "    api_key = 'keym266zc06VtBemX')"
   ]
  },
  {
   "cell_type": "code",
   "execution_count": null,
   "metadata": {},
   "outputs": [],
   "source": [
    "table = table.drop(\n",
    "    columns=[\"id\"])"
   ]
  },
  {
   "cell_type": "code",
   "execution_count": null,
   "metadata": {},
   "outputs": [],
   "source": [
    "df_to_airtable_base(\n",
    "    table,\n",
    "    base_id = 'appiP2UyUm8OvafTE',\n",
    "    table_name = 'Applicants_v2',\n",
    "    api_key = 'keym266zc06VtBemX')"
   ]
  },
  {
   "cell_type": "markdown",
   "metadata": {},
   "source": [
    "## Google sheets"
   ]
  },
  {
   "cell_type": "code",
   "execution_count": null,
   "metadata": {},
   "outputs": [],
   "source": [
    "df = gsheet_to_df(url='https://docs.google.com/spreadsheets/d/1tYseM8jnNOBgKf3v9WtLSOCbQNjYw1hABa-cL4nlwds/edit#gid=0',\n",
    "                  start_row=5,\n",
    "                  sheet=0)"
   ]
  },
  {
   "cell_type": "code",
   "execution_count": null,
   "metadata": {},
   "outputs": [
    {
     "data": {
      "text/html": [
       "<div>\n",
       "<style scoped>\n",
       "    .dataframe tbody tr th:only-of-type {\n",
       "        vertical-align: middle;\n",
       "    }\n",
       "\n",
       "    .dataframe tbody tr th {\n",
       "        vertical-align: top;\n",
       "    }\n",
       "\n",
       "    .dataframe thead th {\n",
       "        text-align: right;\n",
       "    }\n",
       "</style>\n",
       "<table border=\"1\" class=\"dataframe\">\n",
       "  <thead>\n",
       "    <tr style=\"text-align: right;\">\n",
       "      <th></th>\n",
       "      <th>user</th>\n",
       "      <th>interactionType</th>\n",
       "      <th>date</th>\n",
       "    </tr>\n",
       "  </thead>\n",
       "  <tbody>\n",
       "    <tr>\n",
       "      <th>0</th>\n",
       "      <td>user006</td>\n",
       "      <td>interaction_1</td>\n",
       "      <td>2020-12-25</td>\n",
       "    </tr>\n",
       "    <tr>\n",
       "      <th>1</th>\n",
       "      <td>user006</td>\n",
       "      <td>interaction_2</td>\n",
       "      <td>2020-12-25</td>\n",
       "    </tr>\n",
       "    <tr>\n",
       "      <th>2</th>\n",
       "      <td>user007</td>\n",
       "      <td>interaction_1</td>\n",
       "      <td>2020-12-22</td>\n",
       "    </tr>\n",
       "    <tr>\n",
       "      <th>3</th>\n",
       "      <td>user005</td>\n",
       "      <td>interaction_1</td>\n",
       "      <td>2020-12-16</td>\n",
       "    </tr>\n",
       "    <tr>\n",
       "      <th>4</th>\n",
       "      <td>user010</td>\n",
       "      <td>interaction_1</td>\n",
       "      <td>2020-12-16</td>\n",
       "    </tr>\n",
       "    <tr>\n",
       "      <th>5</th>\n",
       "      <td>user005</td>\n",
       "      <td>interaction_2</td>\n",
       "      <td>2020-12-16</td>\n",
       "    </tr>\n",
       "    <tr>\n",
       "      <th>6</th>\n",
       "      <td>user006</td>\n",
       "      <td>interaction_1</td>\n",
       "      <td>2020-12-15</td>\n",
       "    </tr>\n",
       "    <tr>\n",
       "      <th>7</th>\n",
       "      <td>user002</td>\n",
       "      <td>interaction_1</td>\n",
       "      <td>2020-12-12</td>\n",
       "    </tr>\n",
       "    <tr>\n",
       "      <th>8</th>\n",
       "      <td>user007</td>\n",
       "      <td>interaction_1</td>\n",
       "      <td>2020-12-12</td>\n",
       "    </tr>\n",
       "    <tr>\n",
       "      <th>9</th>\n",
       "      <td>user001</td>\n",
       "      <td>interaction_2</td>\n",
       "      <td>2020-12-12</td>\n",
       "    </tr>\n",
       "    <tr>\n",
       "      <th>10</th>\n",
       "      <td>user003</td>\n",
       "      <td>interaction_1</td>\n",
       "      <td>2020-12-10</td>\n",
       "    </tr>\n",
       "    <tr>\n",
       "      <th>11</th>\n",
       "      <td>user001</td>\n",
       "      <td>interaction_1</td>\n",
       "      <td>2020-11-13</td>\n",
       "    </tr>\n",
       "    <tr>\n",
       "      <th>12</th>\n",
       "      <td>user006</td>\n",
       "      <td>interaction_1</td>\n",
       "      <td>2020-12-25</td>\n",
       "    </tr>\n",
       "    <tr>\n",
       "      <th>13</th>\n",
       "      <td>user006</td>\n",
       "      <td>interaction_2</td>\n",
       "      <td>2020-12-25</td>\n",
       "    </tr>\n",
       "    <tr>\n",
       "      <th>14</th>\n",
       "      <td>user007</td>\n",
       "      <td>interaction_1</td>\n",
       "      <td>2020-12-22</td>\n",
       "    </tr>\n",
       "    <tr>\n",
       "      <th>15</th>\n",
       "      <td>user005</td>\n",
       "      <td>interaction_1</td>\n",
       "      <td>2020-12-16</td>\n",
       "    </tr>\n",
       "    <tr>\n",
       "      <th>16</th>\n",
       "      <td>user010</td>\n",
       "      <td>interaction_1</td>\n",
       "      <td>2020-12-16</td>\n",
       "    </tr>\n",
       "    <tr>\n",
       "      <th>17</th>\n",
       "      <td>user005</td>\n",
       "      <td>interaction_2</td>\n",
       "      <td>2020-12-16</td>\n",
       "    </tr>\n",
       "    <tr>\n",
       "      <th>18</th>\n",
       "      <td>user006</td>\n",
       "      <td>interaction_1</td>\n",
       "      <td>2020-12-15</td>\n",
       "    </tr>\n",
       "    <tr>\n",
       "      <th>19</th>\n",
       "      <td>user002</td>\n",
       "      <td>interaction_1</td>\n",
       "      <td>2020-12-12</td>\n",
       "    </tr>\n",
       "    <tr>\n",
       "      <th>20</th>\n",
       "      <td>user007</td>\n",
       "      <td>interaction_1</td>\n",
       "      <td>2020-12-12</td>\n",
       "    </tr>\n",
       "    <tr>\n",
       "      <th>21</th>\n",
       "      <td>user001</td>\n",
       "      <td>interaction_2</td>\n",
       "      <td>2020-12-12</td>\n",
       "    </tr>\n",
       "    <tr>\n",
       "      <th>22</th>\n",
       "      <td>user003</td>\n",
       "      <td>interaction_1</td>\n",
       "      <td>2020-12-10</td>\n",
       "    </tr>\n",
       "    <tr>\n",
       "      <th>23</th>\n",
       "      <td>user001</td>\n",
       "      <td>interaction_1</td>\n",
       "      <td>2020-11-13</td>\n",
       "    </tr>\n",
       "    <tr>\n",
       "      <th>24</th>\n",
       "      <td>user006</td>\n",
       "      <td>interaction_1</td>\n",
       "      <td>2020-12-25</td>\n",
       "    </tr>\n",
       "    <tr>\n",
       "      <th>25</th>\n",
       "      <td>user006</td>\n",
       "      <td>interaction_2</td>\n",
       "      <td>2020-12-25</td>\n",
       "    </tr>\n",
       "    <tr>\n",
       "      <th>26</th>\n",
       "      <td>user007</td>\n",
       "      <td>interaction_1</td>\n",
       "      <td>2020-12-22</td>\n",
       "    </tr>\n",
       "    <tr>\n",
       "      <th>27</th>\n",
       "      <td>user005</td>\n",
       "      <td>interaction_1</td>\n",
       "      <td>2020-12-16</td>\n",
       "    </tr>\n",
       "    <tr>\n",
       "      <th>28</th>\n",
       "      <td>user010</td>\n",
       "      <td>interaction_1</td>\n",
       "      <td>2020-12-16</td>\n",
       "    </tr>\n",
       "    <tr>\n",
       "      <th>29</th>\n",
       "      <td>user005</td>\n",
       "      <td>interaction_2</td>\n",
       "      <td>2020-12-16</td>\n",
       "    </tr>\n",
       "    <tr>\n",
       "      <th>30</th>\n",
       "      <td>user006</td>\n",
       "      <td>interaction_1</td>\n",
       "      <td>2020-12-15</td>\n",
       "    </tr>\n",
       "    <tr>\n",
       "      <th>31</th>\n",
       "      <td>user002</td>\n",
       "      <td>interaction_1</td>\n",
       "      <td>2020-12-12</td>\n",
       "    </tr>\n",
       "    <tr>\n",
       "      <th>32</th>\n",
       "      <td>user007</td>\n",
       "      <td>interaction_1</td>\n",
       "      <td>2020-12-12</td>\n",
       "    </tr>\n",
       "    <tr>\n",
       "      <th>33</th>\n",
       "      <td>user001</td>\n",
       "      <td>interaction_2</td>\n",
       "      <td>2020-12-12</td>\n",
       "    </tr>\n",
       "    <tr>\n",
       "      <th>34</th>\n",
       "      <td>user003</td>\n",
       "      <td>interaction_1</td>\n",
       "      <td>2020-12-10</td>\n",
       "    </tr>\n",
       "    <tr>\n",
       "      <th>35</th>\n",
       "      <td>user001</td>\n",
       "      <td>interaction_1</td>\n",
       "      <td>2020-11-13</td>\n",
       "    </tr>\n",
       "  </tbody>\n",
       "</table>\n",
       "</div>"
      ],
      "text/plain": [
       "       user interactionType        date\n",
       "0   user006   interaction_1  2020-12-25\n",
       "1   user006   interaction_2  2020-12-25\n",
       "2   user007   interaction_1  2020-12-22\n",
       "3   user005   interaction_1  2020-12-16\n",
       "4   user010   interaction_1  2020-12-16\n",
       "5   user005   interaction_2  2020-12-16\n",
       "6   user006   interaction_1  2020-12-15\n",
       "7   user002   interaction_1  2020-12-12\n",
       "8   user007   interaction_1  2020-12-12\n",
       "9   user001   interaction_2  2020-12-12\n",
       "10  user003   interaction_1  2020-12-10\n",
       "11  user001   interaction_1  2020-11-13\n",
       "12  user006   interaction_1  2020-12-25\n",
       "13  user006   interaction_2  2020-12-25\n",
       "14  user007   interaction_1  2020-12-22\n",
       "15  user005   interaction_1  2020-12-16\n",
       "16  user010   interaction_1  2020-12-16\n",
       "17  user005   interaction_2  2020-12-16\n",
       "18  user006   interaction_1  2020-12-15\n",
       "19  user002   interaction_1  2020-12-12\n",
       "20  user007   interaction_1  2020-12-12\n",
       "21  user001   interaction_2  2020-12-12\n",
       "22  user003   interaction_1  2020-12-10\n",
       "23  user001   interaction_1  2020-11-13\n",
       "24  user006   interaction_1  2020-12-25\n",
       "25  user006   interaction_2  2020-12-25\n",
       "26  user007   interaction_1  2020-12-22\n",
       "27  user005   interaction_1  2020-12-16\n",
       "28  user010   interaction_1  2020-12-16\n",
       "29  user005   interaction_2  2020-12-16\n",
       "30  user006   interaction_1  2020-12-15\n",
       "31  user002   interaction_1  2020-12-12\n",
       "32  user007   interaction_1  2020-12-12\n",
       "33  user001   interaction_2  2020-12-12\n",
       "34  user003   interaction_1  2020-12-10\n",
       "35  user001   interaction_1  2020-11-13"
      ]
     },
     "execution_count": null,
     "metadata": {},
     "output_type": "execute_result"
    }
   ],
   "source": [
    "df"
   ]
  },
  {
   "cell_type": "code",
   "execution_count": null,
   "metadata": {},
   "outputs": [],
   "source": [
    "df_to_gsheet(df,\n",
    "             url='https://docs.google.com/spreadsheets/d/1tYseM8jnNOBgKf3v9WtLSOCbQNjYw1hABa-cL4nlwds/edit#gid=0',\n",
    "             start=(5,1),\n",
    "             index=False,\n",
    "             sheet=1)"
   ]
  },
  {
   "cell_type": "code",
   "execution_count": null,
   "metadata": {},
   "outputs": [],
   "source": [
    "df_to_gsheet(df,\n",
    "             url='https://docs.google.com/spreadsheets/d/1tYseM8jnNOBgKf3v9WtLSOCbQNjYw1hABa-cL4nlwds/edit#gid=0',\n",
    "             append=True,\n",
    "             index=False,\n",
    "             sheet=1)"
   ]
  },
  {
   "cell_type": "markdown",
   "metadata": {},
   "source": [
    "### Manual credentials"
   ]
  },
  {
   "cell_type": "code",
   "execution_count": null,
   "metadata": {},
   "outputs": [
    {
     "name": "stdout",
     "output_type": "stream",
     "text": [
      "Converted 00_core.ipynb.\n",
      "Converted 01_integrations.ipynb.\n",
      "Converted index.ipynb.\n"
     ]
    }
   ],
   "source": [
    "from nbdev.export import *\n",
    "notebook2script()"
   ]
  },
  {
   "cell_type": "code",
   "execution_count": null,
   "metadata": {},
   "outputs": [],
   "source": []
  }
 ],
 "metadata": {
  "kernelspec": {
   "display_name": "Python 3 (ipykernel)",
   "language": "python",
   "name": "python3"
  }
 },
 "nbformat": 4,
 "nbformat_minor": 4
}
